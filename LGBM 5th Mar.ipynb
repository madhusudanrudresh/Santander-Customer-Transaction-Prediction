{
 "cells": [
  {
   "cell_type": "code",
   "execution_count": 2,
   "metadata": {},
   "outputs": [],
   "source": [
    "import numpy as np\n",
    "import pandas as pd\n",
    "import seaborn as sns\n",
    "import matplotlib.pyplot as plt\n",
    "%matplotlib inline"
   ]
  },
  {
   "cell_type": "code",
   "execution_count": 1,
   "metadata": {},
   "outputs": [],
   "source": [
    "import lightgbm as lgb"
   ]
  },
  {
   "cell_type": "code",
   "execution_count": 3,
   "metadata": {},
   "outputs": [],
   "source": [
    "df_train = pd.read_csv('train.csv')"
   ]
  },
  {
   "cell_type": "code",
   "execution_count": 14,
   "metadata": {},
   "outputs": [],
   "source": [
    "df_test = pd.read_csv('test.csv')\n",
    "df_test = df_test.drop('ID_code',axis=1)"
   ]
  },
  {
   "cell_type": "code",
   "execution_count": 5,
   "metadata": {},
   "outputs": [],
   "source": [
    "from sklearn.model_selection import train_test_split"
   ]
  },
  {
   "cell_type": "code",
   "execution_count": 6,
   "metadata": {},
   "outputs": [],
   "source": [
    "X = df_train.drop(['target','ID_code'],axis=1)\n",
    "y = df_train['target']\n",
    "\n",
    "X_train, X_val, y_train, y_val = train_test_split(X, y, test_size=0.33, random_state=42)"
   ]
  },
  {
   "cell_type": "code",
   "execution_count": 7,
   "metadata": {},
   "outputs": [],
   "source": [
    "from sklearn.model_selection import StratifiedKFold"
   ]
  },
  {
   "cell_type": "code",
   "execution_count": 9,
   "metadata": {},
   "outputs": [],
   "source": [
    "n_splits = 5\n",
    "skf = StratifiedKFold(n_splits=n_splits,shuffle=True,random_state=101)"
   ]
  },
  {
   "cell_type": "code",
   "execution_count": 16,
   "metadata": {},
   "outputs": [
    {
     "name": "stdout",
     "output_type": "stream",
     "text": [
      "Fold: 1\n"
     ]
    },
    {
     "name": "stderr",
     "output_type": "stream",
     "text": [
      "c:\\users\\madhusudan rudresh\\appdata\\local\\programs\\python\\python36\\lib\\site-packages\\lightgbm\\engine.py:118: UserWarning: Found `num_rounds` in params. Will use it instead of argument\n",
      "  warnings.warn(\"Found `{}` in params. Will use it instead of argument\".format(alias))\n"
     ]
    },
    {
     "name": "stdout",
     "output_type": "stream",
     "text": [
      "[500]\tvalid_0's auc: 0.849379\n",
      "[1000]\tvalid_0's auc: 0.870792\n",
      "[1500]\tvalid_0's auc: 0.880411\n",
      "[2000]\tvalid_0's auc: 0.884718\n",
      "[2500]\tvalid_0's auc: 0.887124\n",
      "[3000]\tvalid_0's auc: 0.888704\n",
      "[3500]\tvalid_0's auc: 0.889071\n",
      "[4000]\tvalid_0's auc: 0.889188\n",
      "[4500]\tvalid_0's auc: 0.889224\n",
      "[5000]\tvalid_0's auc: 0.889245\n",
      "[5500]\tvalid_0's auc: 0.889343\n",
      "[6000]\tvalid_0's auc: 0.889309\n",
      "Fold: 2\n",
      "[500]\tvalid_0's auc: 0.845566\n",
      "[1000]\tvalid_0's auc: 0.86829\n",
      "[1500]\tvalid_0's auc: 0.877084\n",
      "[2000]\tvalid_0's auc: 0.881823\n",
      "[2500]\tvalid_0's auc: 0.884715\n",
      "[3000]\tvalid_0's auc: 0.886338\n",
      "[3500]\tvalid_0's auc: 0.886878\n",
      "[4000]\tvalid_0's auc: 0.886883\n",
      "[4500]\tvalid_0's auc: 0.886763\n",
      "[5000]\tvalid_0's auc: 0.886616\n",
      "[5500]\tvalid_0's auc: 0.886553\n",
      "[6000]\tvalid_0's auc: 0.886364\n",
      "Fold: 3\n",
      "[500]\tvalid_0's auc: 0.852076\n",
      "[1000]\tvalid_0's auc: 0.874377\n",
      "[1500]\tvalid_0's auc: 0.883654\n",
      "[2000]\tvalid_0's auc: 0.888332\n",
      "[2500]\tvalid_0's auc: 0.890679\n",
      "[3000]\tvalid_0's auc: 0.891765\n",
      "[3500]\tvalid_0's auc: 0.892365\n",
      "[4000]\tvalid_0's auc: 0.892444\n",
      "[4500]\tvalid_0's auc: 0.892608\n",
      "[5000]\tvalid_0's auc: 0.892644\n",
      "[5500]\tvalid_0's auc: 0.892702\n",
      "[6000]\tvalid_0's auc: 0.892761\n",
      "Fold: 4\n",
      "[500]\tvalid_0's auc: 0.858941\n",
      "[1000]\tvalid_0's auc: 0.880055\n",
      "[1500]\tvalid_0's auc: 0.888378\n",
      "[2000]\tvalid_0's auc: 0.893181\n",
      "[2500]\tvalid_0's auc: 0.895718\n",
      "[3000]\tvalid_0's auc: 0.896988\n",
      "[3500]\tvalid_0's auc: 0.897474\n",
      "[4000]\tvalid_0's auc: 0.897497\n",
      "[4500]\tvalid_0's auc: 0.897543\n",
      "[5000]\tvalid_0's auc: 0.89742\n",
      "[5500]\tvalid_0's auc: 0.897249\n",
      "[6000]\tvalid_0's auc: 0.896925\n",
      "Fold: 5\n",
      "[500]\tvalid_0's auc: 0.849572\n",
      "[1000]\tvalid_0's auc: 0.873324\n",
      "[1500]\tvalid_0's auc: 0.883042\n",
      "[2000]\tvalid_0's auc: 0.887867\n",
      "[2500]\tvalid_0's auc: 0.890474\n",
      "[3000]\tvalid_0's auc: 0.891886\n",
      "[3500]\tvalid_0's auc: 0.892533\n",
      "[4000]\tvalid_0's auc: 0.892835\n",
      "[4500]\tvalid_0's auc: 0.893207\n",
      "[5000]\tvalid_0's auc: 0.893358\n",
      "[5500]\tvalid_0's auc: 0.893416\n",
      "[6000]\tvalid_0's auc: 0.893423\n"
     ]
    }
   ],
   "source": [
    "count = 1\n",
    "\n",
    "params = {'objective':'binary', 'metric':'auc', 'learning_rate': 0.01, 'num_rounds':6000, 'verbose':1}\n",
    "test_pred = np.zeros(len(df_test))\n",
    "\n",
    "for train_index,val_index in skf.split(X_train, y_train):\n",
    "    print('Fold: {}'.format(count))\n",
    "    lgb_train = lgb.Dataset(data = X_train.iloc[train_index], label = y_train.iloc[train_index])\n",
    "    lgb_val = lgb.Dataset(data = X_train.iloc[val_index], label = y_train.iloc[val_index])\n",
    "    \n",
    "    model = lgb.train(params, train_set = lgb_train, valid_sets = lgb_val,verbose_eval=500)\n",
    "    \n",
    "    test_pred += model.predict(df_test)/n_splits\n",
    "    \n",
    "    count = count+1"
   ]
  },
  {
   "cell_type": "code",
   "execution_count": 21,
   "metadata": {},
   "outputs": [],
   "source": [
    "ID = pd.read_csv('test.csv')\n",
    "ID = ID['ID_code']"
   ]
  },
  {
   "cell_type": "code",
   "execution_count": 29,
   "metadata": {},
   "outputs": [],
   "source": [
    "lgbm_output = pd.DataFrame(data=test_pred,index=ID)\n",
    "lgbm_output.columns = ['target']"
   ]
  },
  {
   "cell_type": "code",
   "execution_count": 30,
   "metadata": {},
   "outputs": [],
   "source": [
    "lgbm_output.to_csv('output_5thmar.csv')"
   ]
  },
  {
   "cell_type": "code",
   "execution_count": null,
   "metadata": {},
   "outputs": [],
   "source": []
  }
 ],
 "metadata": {
  "kernelspec": {
   "display_name": "Python 3",
   "language": "python",
   "name": "python3"
  },
  "language_info": {
   "codemirror_mode": {
    "name": "ipython",
    "version": 3
   },
   "file_extension": ".py",
   "mimetype": "text/x-python",
   "name": "python",
   "nbconvert_exporter": "python",
   "pygments_lexer": "ipython3",
   "version": "3.6.0"
  }
 },
 "nbformat": 4,
 "nbformat_minor": 2
}
